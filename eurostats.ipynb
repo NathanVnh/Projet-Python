{
 "cells": [
  {
   "cell_type": "code",
   "execution_count": 5,
   "id": "00967d91-8a22-4a0a-ac58-80a567a7a9eb",
   "metadata": {},
   "outputs": [],
   "source": [
    "class Eurostats:\n",
    "    '''\n",
    "    Classe qui permet la modélisation de données issues de Eurostats\n",
    "    '''\n",
    "    def __init__(self, path, sheet):\n",
    "        \"\"\"\n",
    "        Parameters\n",
    "        ----------\n",
    "        self.excel_name : str\n",
    "            Nom du fichier excel à importer\n",
    "        self.sheet_sheet : str\n",
    "            \n",
    "        self.skip_rows : int\n",
    "            Nombre de lignes qu'on doit ignorer pour que le dataframe commence au bon endroit\n",
    "        self.dataframe : list\n",
    "            Le dataframe qu'on va utiliser pour l'analyse des données, il est initialement vide et sera mis à jour à l'aide des méthode import et nettoyage.\n",
    "        \"\"\"\n",
    "\n",
    "        self.excel_name = path\n",
    "        self.sheet = sheet\n",
    "        self.skip_rows = 8\n",
    "        self.dataframe = pd.DataFrame()\n",
    "    def imp(self):\n",
    "        '''\n",
    "        Méthode qui permet l'import des données excel via la fonction pandas read_excel\n",
    "        '''\n",
    "        self.dataframe = pd.read_excel(self.excel_name, sheet_name=self.sheet, skiprows=self.skip_rows)\n",
    "    def nettoyage(self, pays):\n",
    "        '''\n",
    "        Méthode qui permet de rendre le jeu de données utilisable. Elle permet de sélectionner le pays d'intérêt, et transforme le dataframe en une série temporelle ayant pour index le temps.\n",
    "        \n",
    "        Parameters\n",
    "        ----------\n",
    "        pays : str\n",
    "            Le pays pour lequel on veut utiliser les données considérées.\n",
    "            \n",
    "\n",
    "        '''\n",
    "        self.dataframe = self.dataframe[self.dataframe.iloc[:, 0].str.startswith(pays)]\n",
    "        self.dataframe = self.dataframe.iloc[:, 1:]\n",
    "        self.dataframe = self.dataframe.T\n",
    "        self.dataframe.columns = ['Prix']\n",
    "        self.dataframe.replace(\":\", np.nan, inplace=True)\n",
    "        self.dataframe.index = pd.to_datetime(self.dataframe.index, format='%Y-%m')\n",
    "        \n"
   ]
  }
 ],
 "metadata": {
  "kernelspec": {
   "display_name": "Python 3 (ipykernel)",
   "language": "python",
   "name": "python3"
  },
  "language_info": {
   "codemirror_mode": {
    "name": "ipython",
    "version": 3
   },
   "file_extension": ".py",
   "mimetype": "text/x-python",
   "name": "python",
   "nbconvert_exporter": "python",
   "pygments_lexer": "ipython3",
   "version": "3.10.13"
  }
 },
 "nbformat": 4,
 "nbformat_minor": 5
}
